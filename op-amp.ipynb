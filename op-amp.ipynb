{
 "cells": [
  {
   "cell_type": "markdown",
   "metadata": {},
   "source": [
    "# PID and Fuzzy logic with Op-Amp"
   ]
  },
  {
   "cell_type": "markdown",
   "metadata": {},
   "source": [
    "- Differential input resistance: Differential input resistance is the equivalent resistance \n",
    "that can be measured at either the inverting or non-inverting input terminal with the \n",
    "other terminal connected to ground. \n",
    "- Output resistance: Output resistance is the equivalent resistance that can be \n",
    "measured between the output terminal of the op-amp and the ground. \n",
    "- Large signal voltage gain: Since the op-amp difference voltage between two input \n",
    "terminals, the voltage gain of the amplifier is defined as the ratio of output voltage to \n",
    "differential input voltage. That is: \n",
    "    $ A = \\frac{V_o}{V_{id}} $\n",
    "Because output signal amplitude is much larger than the input signal, the voltage \n",
    "gain is commonly called large signal voltage gain. \n",
    "- Common mode rejection ratio (CMRR): It is defined as the ratio of differential gain \n",
    "to common mode gain. A high CMRR helps to reject common mode signals such as \n",
    "noise successfully. <br>\n",
    "$ \\text{CMRR} = \\frac{A_d} {A_{cm}} $ <br>\n",
    "$ \\text{CMRR} (dB) = 20log (\\dfrac{A_d} {A_{cm}}) $\n",
    "\n",
    "- Slew rate (SR): It is defined as the maximum rate of change of output voltage per \n",
    "unit time and it is expressed in volts/microseconds. <br>\n",
    "$ SR = \\dfrac{dV_o}{dt} \\biggr\\rvert _{max}$"
   ]
  },
  {
   "cell_type": "code",
   "execution_count": 3,
   "metadata": {},
   "outputs": [
    {
     "data": {
      "image/png": "[encoded data removed]",
      "image/svg+xml": "<?xml version=\"1.0\" encoding=\"utf-8\" standalone=\"no\"?>\r\n<!DOCTYPE svg PUBLIC \"-//W3C//DTD SVG 1.1//EN\"\r\n  \"http://www.w3.org/Graphics/SVG/1.1/DTD/svg11.dtd\">\r\n<svg height=\"158.254pt\" version=\"1.1\" viewBox=\"0 0 202.176862 158.254\" width=\"202.176862pt\" xmlns=\"http://www.w3.org/2000/svg\" xmlns:xlink=\"http://www.w3.org/1999/xlink\">\r\n <metadata>\r\n  <rdf:RDF xmlns:cc=\"http://creativecommons.org/ns#\" xmlns:dc=\"http://purl.org/dc/elements/1.1/\" xmlns:rdf=\"http://www.w3.org/1999/02/22-rdf-syntax-ns#\">\r\n   <cc:Work>\r\n    <dc:type rdf:resource=\"http://purl.org/dc/dcmitype/StillImage\"/>\r\n    <dc:date>2021-10-14T13:06:17.837831</dc:date>\r\n    <dc:format>image/svg+xml</dc:format>\r\n    <dc:creator>\r\n     <cc:Agent>\r\n      <dc:title>Matplotlib v3.4.3, https://matplotlib.org/</dc:title>\r\n     </cc:Agent>\r\n    </dc:creator>\r\n   </cc:Work>\r\n  </rdf:RDF>\r\n </metadata>\r\n <defs>\r\n  <style type=\"text/css\">*{stroke-linecap:butt;stroke-linejoin:round;}</style>\r\n </defs>\r\n <g id=\"figure_1\">\r\n  <g id=\"patch_1\">\r\n   <path d=\"M 0 158.254 \r\nL 202.176862 158.254 \r\nL 202.176862 0 \r\nL 0 0 \r\nz\r\n\" style=\"fill:none;\"/>\r\n  </g>\r\n  <g id=\"axes_1\">\r\n   <g id=\"patch_2\">\r\n    <path clip-path=\"url(#pc1fa06de46)\" d=\"M 53.2428 97.81 \r\nC 57.300407 97.81 61.192372 96.197895 64.061534 93.328734 \r\nC 66.930695 90.459572 68.5428 86.567607 68.5428 82.51 \r\nC 68.5428 78.452393 66.930695 74.560428 64.061534 71.691266 \r\nC 61.192372 68.822105 57.300407 67.21 53.2428 67.21 \r\nC 49.185193 67.21 45.293228 68.822105 42.424066 71.691266 \r\nC 39.554905 74.560428 37.9428 78.452393 37.9428 82.51 \r\nC 37.9428 86.567607 39.554905 90.459572 42.424066 93.328734 \r\nC 45.293228 96.197895 49.185193 97.81 53.2428 97.81 \r\nz\r\n\" style=\"fill:none;stroke:#000000;stroke-linejoin:miter;stroke-width:2;\"/>\r\n   </g>\r\n   <g id=\"line2d_1\">\r\n    <path clip-path=\"url(#pc1fa06de46)\" d=\"M 53.2428 36.61 \r\nL 83.8428 36.61 \r\nL 86.3928 28.96 \r\nL 91.4928 44.26 \r\nL 96.5928 28.96 \r\nL 101.6928 44.26 \r\nL 106.7928 28.96 \r\nL 111.8928 44.26 \r\nL 114.4428 36.61 \r\nL 145.0428 36.61 \r\n\" style=\"fill:none;stroke:#000000;stroke-linecap:round;stroke-width:2;\"/>\r\n   </g>\r\n   <g id=\"line2d_2\">\r\n    <path clip-path=\"url(#pc1fa06de46)\" d=\"M 145.0428 36.61 \r\nL 145.0428 79.756 \r\nM 152.6928 79.756 \r\nL 137.3928 79.756 \r\nM 152.6928 85.264 \r\nL 137.3928 85.264 \r\nM 145.0428 85.264 \r\nL 145.0428 128.41 \r\n\" style=\"fill:none;stroke:#000000;stroke-linecap:round;stroke-width:2;\"/>\r\n   </g>\r\n   <g id=\"line2d_3\">\r\n    <path clip-path=\"url(#pc1fa06de46)\" d=\"M 145.0428 128.41 \r\nL 99.1428 128.41 \r\nL 53.2428 128.41 \r\n\" style=\"fill:none;stroke:#000000;stroke-linecap:round;stroke-width:2;\"/>\r\n   </g>\r\n   <g id=\"line2d_4\">\r\n    <path clip-path=\"url(#pc1fa06de46)\" d=\"M 53.2428 128.41 \r\nL 53.2428 140.65 \r\nL 45.5928 140.65 \r\nL 60.8928 140.65 \r\nM 47.8878 144.322 \r\nL 58.5978 144.322 \r\nM 51.7128 147.994 \r\nL 54.7728 147.994 \r\n\" style=\"fill:none;stroke:#000000;stroke-linecap:round;stroke-width:2;\"/>\r\n   </g>\r\n   <g id=\"line2d_5\">\r\n    <path clip-path=\"url(#pc1fa06de46)\" d=\"M 53.2428 128.41 \r\nL 53.2428 97.81 \r\nL 53.2428 97.81 \r\nM 53.2428 67.21 \r\nL 53.2428 67.21 \r\nL 53.2428 36.61 \r\n\" style=\"fill:none;stroke:#000000;stroke-linecap:round;stroke-width:2;\"/>\r\n   </g>\r\n   <g id=\"line2d_6\">\r\n    <path clip-path=\"url(#pc1fa06de46)\" d=\"M 56.3028 90.16 \r\nL 50.1828 90.16 \r\n\" style=\"fill:none;stroke:#000000;stroke-linecap:round;stroke-width:2;\"/>\r\n   </g>\r\n   <g id=\"line2d_7\">\r\n    <path clip-path=\"url(#pc1fa06de46)\" d=\"M 53.2428 77.92 \r\nL 53.2428 71.8 \r\n\" style=\"fill:none;stroke:#000000;stroke-linecap:round;stroke-width:2;\"/>\r\n   </g>\r\n   <g id=\"line2d_8\">\r\n    <path clip-path=\"url(#pc1fa06de46)\" d=\"M 56.3028 74.86 \r\nL 50.1828 74.86 \r\n\" style=\"fill:none;stroke:#000000;stroke-linecap:round;stroke-width:2;\"/>\r\n   </g>\r\n   <g id=\"text_1\">\r\n    <!-- 100KΩ -->\r\n    <g transform=\"translate(75.84155 22.988437)scale(0.14 -0.14)\">\r\n     <defs>\r\n      <path d=\"M 794 531 \r\nL 1825 531 \r\nL 1825 4091 \r\nL 703 3866 \r\nL 703 4441 \r\nL 1819 4666 \r\nL 2450 4666 \r\nL 2450 531 \r\nL 3481 531 \r\nL 3481 0 \r\nL 794 0 \r\nL 794 531 \r\nz\r\n\" id=\"DejaVuSans-31\" transform=\"scale(0.015625)\"/>\r\n      <path d=\"M 2034 4250 \r\nQ 1547 4250 1301 3770 \r\nQ 1056 3291 1056 2328 \r\nQ 1056 1369 1301 889 \r\nQ 1547 409 2034 409 \r\nQ 2525 409 2770 889 \r\nQ 3016 1369 3016 2328 \r\nQ 3016 3291 2770 3770 \r\nQ 2525 4250 2034 4250 \r\nz\r\nM 2034 4750 \r\nQ 2819 4750 3233 4129 \r\nQ 3647 3509 3647 2328 \r\nQ 3647 1150 3233 529 \r\nQ 2819 -91 2034 -91 \r\nQ 1250 -91 836 529 \r\nQ 422 1150 422 2328 \r\nQ 422 3509 836 4129 \r\nQ 1250 4750 2034 4750 \r\nz\r\n\" id=\"DejaVuSans-30\" transform=\"scale(0.015625)\"/>\r\n      <path d=\"M 628 4666 \r\nL 1259 4666 \r\nL 1259 2694 \r\nL 3353 4666 \r\nL 4166 4666 \r\nL 1850 2491 \r\nL 4331 0 \r\nL 3500 0 \r\nL 1259 2247 \r\nL 1259 0 \r\nL 628 0 \r\nL 628 4666 \r\nz\r\n\" id=\"DejaVuSans-4b\" transform=\"scale(0.015625)\"/>\r\n      <path d=\"M 4647 556 \r\nL 4647 0 \r\nL 2772 0 \r\nL 2772 556 \r\nQ 3325 859 3634 1378 \r\nQ 3944 1897 3944 2528 \r\nQ 3944 3278 3531 3731 \r\nQ 3119 4184 2444 4184 \r\nQ 1769 4184 1355 3729 \r\nQ 941 3275 941 2528 \r\nQ 941 1897 1250 1378 \r\nQ 1563 859 2119 556 \r\nL 2119 0 \r\nL 244 0 \r\nL 244 556 \r\nL 1241 556 \r\nQ 747 991 519 1456 \r\nQ 294 1922 294 2497 \r\nQ 294 3491 894 4106 \r\nQ 1491 4722 2444 4722 \r\nQ 3391 4722 3994 4106 \r\nQ 4594 3494 4594 2528 \r\nQ 4594 1922 4372 1459 \r\nQ 4150 997 3647 556 \r\nL 4647 556 \r\nz\r\n\" id=\"DejaVuSans-3a9\" transform=\"scale(0.015625)\"/>\r\n     </defs>\r\n     <use xlink:href=\"#DejaVuSans-31\"/>\r\n     <use x=\"63.623047\" xlink:href=\"#DejaVuSans-30\"/>\r\n     <use x=\"127.246094\" xlink:href=\"#DejaVuSans-30\"/>\r\n     <use x=\"190.869141\" xlink:href=\"#DejaVuSans-4b\"/>\r\n     <use x=\"256.445312\" xlink:href=\"#DejaVuSans-3a9\"/>\r\n    </g>\r\n   </g>\r\n   <g id=\"text_2\">\r\n    <!-- 0.1μF -->\r\n    <g transform=\"translate(155.7528 86.373125)scale(0.14 -0.14)\">\r\n     <defs>\r\n      <path d=\"M 684 794 \r\nL 1344 794 \r\nL 1344 0 \r\nL 684 0 \r\nL 684 794 \r\nz\r\n\" id=\"DejaVuSans-2e\" transform=\"scale(0.015625)\"/>\r\n      <path d=\"M 544 -1331 \r\nL 544 3500 \r\nL 1119 3500 \r\nL 1119 1325 \r\nQ 1119 872 1334 640 \r\nQ 1550 409 1972 409 \r\nQ 2434 409 2667 671 \r\nQ 2900 934 2900 1459 \r\nL 2900 3500 \r\nL 3475 3500 \r\nL 3475 806 \r\nQ 3475 619 3529 530 \r\nQ 3584 441 3700 441 \r\nQ 3728 441 3778 458 \r\nQ 3828 475 3916 513 \r\nL 3916 50 \r\nQ 3788 -22 3673 -56 \r\nQ 3559 -91 3450 -91 \r\nQ 3234 -91 3106 31 \r\nQ 2978 153 2931 403 \r\nQ 2775 156 2548 32 \r\nQ 2322 -91 2016 -91 \r\nQ 1697 -91 1473 31 \r\nQ 1250 153 1119 397 \r\nL 1119 -1331 \r\nL 544 -1331 \r\nz\r\n\" id=\"DejaVuSans-3bc\" transform=\"scale(0.015625)\"/>\r\n      <path d=\"M 628 4666 \r\nL 3309 4666 \r\nL 3309 4134 \r\nL 1259 4134 \r\nL 1259 2759 \r\nL 3109 2759 \r\nL 3109 2228 \r\nL 1259 2228 \r\nL 1259 0 \r\nL 628 0 \r\nL 628 4666 \r\nz\r\n\" id=\"DejaVuSans-46\" transform=\"scale(0.015625)\"/>\r\n     </defs>\r\n     <use xlink:href=\"#DejaVuSans-30\"/>\r\n     <use x=\"63.623047\" xlink:href=\"#DejaVuSans-2e\"/>\r\n     <use x=\"95.410156\" xlink:href=\"#DejaVuSans-31\"/>\r\n     <use x=\"159.033203\" xlink:href=\"#DejaVuSans-3bc\"/>\r\n     <use x=\"222.65625\" xlink:href=\"#DejaVuSans-46\"/>\r\n    </g>\r\n   </g>\r\n   <g id=\"text_3\">\r\n    <!-- 10V -->\r\n    <g transform=\"translate(7.490925 86.373125)scale(0.14 -0.14)\">\r\n     <defs>\r\n      <path d=\"M 1831 0 \r\nL 50 4666 \r\nL 709 4666 \r\nL 2188 738 \r\nL 3669 4666 \r\nL 4325 4666 \r\nL 2547 0 \r\nL 1831 0 \r\nz\r\n\" id=\"DejaVuSans-56\" transform=\"scale(0.015625)\"/>\r\n     </defs>\r\n     <use xlink:href=\"#DejaVuSans-31\"/>\r\n     <use x=\"63.623047\" xlink:href=\"#DejaVuSans-30\"/>\r\n     <use x=\"127.246094\" xlink:href=\"#DejaVuSans-56\"/>\r\n    </g>\r\n   </g>\r\n  </g>\r\n </g>\r\n <defs>\r\n  <clipPath id=\"pc1fa06de46\">\r\n   <rect height=\"143.854\" width=\"187.7208\" x=\"7.2\" y=\"7.2\"/>\r\n  </clipPath>\r\n </defs>\r\n</svg>\r\n",
      "text/plain": [
       "<schemdraw.backends.mpl.Figure object at 0x000001F77B2CDBB0>"
      ]
     },
     "execution_count": 3,
     "metadata": {},
     "output_type": "execute_result"
    }
   ],
   "source": [
    "import schemdraw\n",
    "import schemdraw.elements as elm\n",
    "d = schemdraw.Drawing()\n",
    "d += elm.Resistor().label('100KΩ')\n",
    "d += elm.Capacitor().down().label('0.1μF', loc='bottom')\n",
    "d += elm.Line().left()\n",
    "d += elm.Ground()\n",
    "d += elm.SourceV().up().label('10V')\n",
    "d.draw()"
   ]
  }
 ],
 "metadata": {
  "interpreter": {
   "hash": "63fd5069d213b44bf678585dea6b12cceca9941eaf7f819626cde1f2670de90d"
  },
  "kernelspec": {
   "display_name": "Python 3.9.4 64-bit",
   "name": "python3"
  },
  "language_info": {
   "codemirror_mode": {
    "name": "ipython",
    "version": 3
   },
   "file_extension": ".py",
   "mimetype": "text/x-python",
   "name": "python",
   "nbconvert_exporter": "python",
   "pygments_lexer": "ipython3",
   "version": "3.9.4"
  }
 },
 "nbformat": 4,
 "nbformat_minor": 2
}
