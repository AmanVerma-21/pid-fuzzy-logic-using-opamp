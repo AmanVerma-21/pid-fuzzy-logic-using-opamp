{
 "cells": [
  {
   "cell_type": "markdown",
   "source": [
    "# PID and Fuzzy logic with Op-Amp"
   ],
   "metadata": {}
  },
  {
   "cell_type": "markdown",
   "source": [
    "- Differential input resistance: Differential input resistance is the equivalent resistance \n",
    "that can be measured at either the inverting or non-inverting input terminal with the \n",
    "other terminal connected to ground. \n",
    "- Output resistance: Output resistance is the equivalent resistance that can be \n",
    "measured between the output terminal of the op-amp and the ground. \n",
    "- Large signal voltage gain: Since the op-amp difference voltage between two input \n",
    "terminals, the voltage gain of the amplifier is defined as the ratio of output voltage to \n",
    "differential input voltage. That is: \n",
    "    $ A = \\frac{V_o}{V_{id}} $\n",
    "Because output signal amplitude is much larger than the input signal, the voltage \n",
    "gain is commonly called large signal voltage gain. \n",
    "- Common mode rejection ratio (CMRR): It is defined as the ratio of differential gain \n",
    "to common mode gain. A high CMRR helps to reject common mode signals such as \n",
    "noise successfully. <br>\n",
    "$ \\text{CMRR} = \\frac{A_d} {A_{cm}} $ <br>\n",
    "$ \\text{CMRR} (dB) = 20log (\\dfrac{A_d} {A_{cm}}) $\n",
    "\n",
    "- Slew rate (SR): It is defined as the maximum rate of change of output voltage per \n",
    "unit time and it is expressed in volts/microseconds. <br>\n",
    "$ SR = \\dfrac{dV_o}{dt} \\biggr\\rvert _{max}$"
   ],
   "metadata": {}
  }
 ],
 "metadata": {
  "kernelspec": {
   "display_name": "Python 3",
   "language": "python",
   "name": "python3"
  },
  "language_info": {
   "codemirror_mode": {
    "name": "ipython",
    "version": 3
   },
   "file_extension": ".py",
   "mimetype": "text/x-python",
   "name": "python",
   "nbconvert_exporter": "python",
   "pygments_lexer": "ipython3",
   "version": "3.6.13"
  }
 },
 "nbformat": 4,
 "nbformat_minor": 2
}